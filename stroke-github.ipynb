{
 "cells": [
  {
   "cell_type": "code",
   "execution_count": 158,
   "id": "caca48d0",
   "metadata": {},
   "outputs": [],
   "source": [
    "# Import module pandas\n",
    "import pandas as pd"
   ]
  },
  {
   "cell_type": "code",
   "execution_count": 159,
   "id": "60c21b79",
   "metadata": {},
   "outputs": [],
   "source": [
    "# Open the CSV file contaning the dataset\n",
    "datei = pd.read_csv(\"/home/andre/Desktop/ciência de dados - bootcamp/exercicio/stroke_data.csv\")"
   ]
  },
  {
   "cell_type": "code",
   "execution_count": 160,
   "id": "66e14e2f",
   "metadata": {},
   "outputs": [
    {
     "data": {
      "text/html": [
       "<div>\n",
       "<style scoped>\n",
       "    .dataframe tbody tr th:only-of-type {\n",
       "        vertical-align: middle;\n",
       "    }\n",
       "\n",
       "    .dataframe tbody tr th {\n",
       "        vertical-align: top;\n",
       "    }\n",
       "\n",
       "    .dataframe thead th {\n",
       "        text-align: right;\n",
       "    }\n",
       "</style>\n",
       "<table border=\"1\" class=\"dataframe\">\n",
       "  <thead>\n",
       "    <tr style=\"text-align: right;\">\n",
       "      <th></th>\n",
       "      <th>0</th>\n",
       "      <th>gender</th>\n",
       "      <th>age</th>\n",
       "      <th>hypertension</th>\n",
       "      <th>heart_disease</th>\n",
       "      <th>ever_married</th>\n",
       "      <th>work_type</th>\n",
       "      <th>Residence_type</th>\n",
       "      <th>avg_glucose_level</th>\n",
       "      <th>bmi</th>\n",
       "      <th>smoking_status</th>\n",
       "      <th>stroke</th>\n",
       "    </tr>\n",
       "  </thead>\n",
       "  <tbody>\n",
       "    <tr>\n",
       "      <th>0</th>\n",
       "      <td>1</td>\n",
       "      <td>Female</td>\n",
       "      <td>18.0</td>\n",
       "      <td>0</td>\n",
       "      <td>0</td>\n",
       "      <td>No</td>\n",
       "      <td>Private</td>\n",
       "      <td>Urban</td>\n",
       "      <td>94.19</td>\n",
       "      <td>12.12</td>\n",
       "      <td>smokes</td>\n",
       "      <td>1</td>\n",
       "    </tr>\n",
       "    <tr>\n",
       "      <th>1</th>\n",
       "      <td>2</td>\n",
       "      <td>Male</td>\n",
       "      <td>58.0</td>\n",
       "      <td>1</td>\n",
       "      <td>0</td>\n",
       "      <td>Yes</td>\n",
       "      <td>Private</td>\n",
       "      <td>Rural</td>\n",
       "      <td>154.24</td>\n",
       "      <td>33.70</td>\n",
       "      <td>never_smoked</td>\n",
       "      <td>0</td>\n",
       "    </tr>\n",
       "    <tr>\n",
       "      <th>2</th>\n",
       "      <td>3</td>\n",
       "      <td>Female</td>\n",
       "      <td>36.0</td>\n",
       "      <td>0</td>\n",
       "      <td>0</td>\n",
       "      <td>Yes</td>\n",
       "      <td>Govt_job</td>\n",
       "      <td>Urban</td>\n",
       "      <td>72.63</td>\n",
       "      <td>24.70</td>\n",
       "      <td>smokes</td>\n",
       "      <td>0</td>\n",
       "    </tr>\n",
       "    <tr>\n",
       "      <th>3</th>\n",
       "      <td>4</td>\n",
       "      <td>Female</td>\n",
       "      <td>62.0</td>\n",
       "      <td>0</td>\n",
       "      <td>0</td>\n",
       "      <td>Yes</td>\n",
       "      <td>Self-employed</td>\n",
       "      <td>Rural</td>\n",
       "      <td>85.52</td>\n",
       "      <td>31.20</td>\n",
       "      <td>formerly smoked</td>\n",
       "      <td>0</td>\n",
       "    </tr>\n",
       "    <tr>\n",
       "      <th>4</th>\n",
       "      <td>5</td>\n",
       "      <td>Female</td>\n",
       "      <td>82.0</td>\n",
       "      <td>0</td>\n",
       "      <td>0</td>\n",
       "      <td>Yes</td>\n",
       "      <td>Private</td>\n",
       "      <td>Rural</td>\n",
       "      <td>59.32</td>\n",
       "      <td>33.20</td>\n",
       "      <td>smokes</td>\n",
       "      <td>1</td>\n",
       "    </tr>\n",
       "  </tbody>\n",
       "</table>\n",
       "</div>"
      ],
      "text/plain": [
       "   0  gender   age  hypertension  heart_disease ever_married      work_type  \\\n",
       "0  1  Female  18.0             0              0           No        Private   \n",
       "1  2    Male  58.0             1              0          Yes        Private   \n",
       "2  3  Female  36.0             0              0          Yes       Govt_job   \n",
       "3  4  Female  62.0             0              0          Yes  Self-employed   \n",
       "4  5  Female  82.0             0              0          Yes        Private   \n",
       "\n",
       "  Residence_type  avg_glucose_level    bmi   smoking_status  stroke  \n",
       "0          Urban              94.19  12.12           smokes       1  \n",
       "1          Rural             154.24  33.70     never_smoked       0  \n",
       "2          Urban              72.63  24.70           smokes       0  \n",
       "3          Rural              85.52  31.20  formerly smoked       0  \n",
       "4          Rural              59.32  33.20           smokes       1  "
      ]
     },
     "execution_count": 160,
     "metadata": {},
     "output_type": "execute_result"
    }
   ],
   "source": [
    "# Show the first five registers from dataframe.\n",
    "datei.head()"
   ]
  },
  {
   "cell_type": "code",
   "execution_count": 161,
   "id": "7832a84f",
   "metadata": {},
   "outputs": [
    {
     "data": {
      "text/plain": [
       "(67135, 12)"
      ]
     },
     "execution_count": 161,
     "metadata": {},
     "output_type": "execute_result"
    }
   ],
   "source": [
    "# Return a tuple representing the dimensionality of the DataFrame.\n",
    "datei.shape"
   ]
  },
  {
   "cell_type": "code",
   "execution_count": 162,
   "id": "c1a78fac",
   "metadata": {},
   "outputs": [
    {
     "data": {
      "text/plain": [
       "Index(['0', 'gender', 'age', 'hypertension', 'heart_disease', 'ever_married',\n",
       "       'work_type', 'Residence_type', 'avg_glucose_level', 'bmi',\n",
       "       'smoking_status', 'stroke'],\n",
       "      dtype='object')"
      ]
     },
     "execution_count": 162,
     "metadata": {},
     "output_type": "execute_result"
    }
   ],
   "source": [
    "# Show the column labels of the DataFrame.\n",
    "datei.columns # These dataframe contain 12 columns"
   ]
  },
  {
   "cell_type": "code",
   "execution_count": 163,
   "id": "7081c50f",
   "metadata": {},
   "outputs": [
    {
     "data": {
      "text/html": [
       "<div>\n",
       "<style scoped>\n",
       "    .dataframe tbody tr th:only-of-type {\n",
       "        vertical-align: middle;\n",
       "    }\n",
       "\n",
       "    .dataframe tbody tr th {\n",
       "        vertical-align: top;\n",
       "    }\n",
       "\n",
       "    .dataframe thead th {\n",
       "        text-align: right;\n",
       "    }\n",
       "</style>\n",
       "<table border=\"1\" class=\"dataframe\">\n",
       "  <thead>\n",
       "    <tr style=\"text-align: right;\">\n",
       "      <th></th>\n",
       "      <th>0</th>\n",
       "      <th>age</th>\n",
       "      <th>hypertension</th>\n",
       "      <th>heart_disease</th>\n",
       "      <th>avg_glucose_level</th>\n",
       "      <th>bmi</th>\n",
       "      <th>stroke</th>\n",
       "    </tr>\n",
       "  </thead>\n",
       "  <tbody>\n",
       "    <tr>\n",
       "      <th>count</th>\n",
       "      <td>67135.000000</td>\n",
       "      <td>67135.000000</td>\n",
       "      <td>67135.000000</td>\n",
       "      <td>67135.000000</td>\n",
       "      <td>67135.000000</td>\n",
       "      <td>67135.000000</td>\n",
       "      <td>67135.000000</td>\n",
       "    </tr>\n",
       "    <tr>\n",
       "      <th>mean</th>\n",
       "      <td>33568.000000</td>\n",
       "      <td>51.959508</td>\n",
       "      <td>0.164102</td>\n",
       "      <td>0.101423</td>\n",
       "      <td>113.414396</td>\n",
       "      <td>29.161540</td>\n",
       "      <td>0.600089</td>\n",
       "    </tr>\n",
       "    <tr>\n",
       "      <th>std</th>\n",
       "      <td>19380.349498</td>\n",
       "      <td>23.413054</td>\n",
       "      <td>0.370371</td>\n",
       "      <td>0.301890</td>\n",
       "      <td>51.258817</td>\n",
       "      <td>7.102057</td>\n",
       "      <td>0.489883</td>\n",
       "    </tr>\n",
       "    <tr>\n",
       "      <th>min</th>\n",
       "      <td>1.000000</td>\n",
       "      <td>0.080000</td>\n",
       "      <td>0.000000</td>\n",
       "      <td>0.000000</td>\n",
       "      <td>55.000000</td>\n",
       "      <td>10.100000</td>\n",
       "      <td>0.000000</td>\n",
       "    </tr>\n",
       "    <tr>\n",
       "      <th>25%</th>\n",
       "      <td>16784.500000</td>\n",
       "      <td>35.000000</td>\n",
       "      <td>0.000000</td>\n",
       "      <td>0.000000</td>\n",
       "      <td>78.370000</td>\n",
       "      <td>24.400000</td>\n",
       "      <td>0.000000</td>\n",
       "    </tr>\n",
       "    <tr>\n",
       "      <th>50%</th>\n",
       "      <td>33568.000000</td>\n",
       "      <td>56.000000</td>\n",
       "      <td>0.000000</td>\n",
       "      <td>0.000000</td>\n",
       "      <td>94.160000</td>\n",
       "      <td>28.800000</td>\n",
       "      <td>1.000000</td>\n",
       "    </tr>\n",
       "    <tr>\n",
       "      <th>75%</th>\n",
       "      <td>50351.500000</td>\n",
       "      <td>73.000000</td>\n",
       "      <td>0.000000</td>\n",
       "      <td>0.000000</td>\n",
       "      <td>126.460000</td>\n",
       "      <td>32.600000</td>\n",
       "      <td>1.000000</td>\n",
       "    </tr>\n",
       "    <tr>\n",
       "      <th>max</th>\n",
       "      <td>67135.000000</td>\n",
       "      <td>82.000000</td>\n",
       "      <td>1.000000</td>\n",
       "      <td>1.000000</td>\n",
       "      <td>291.050000</td>\n",
       "      <td>97.600000</td>\n",
       "      <td>1.000000</td>\n",
       "    </tr>\n",
       "  </tbody>\n",
       "</table>\n",
       "</div>"
      ],
      "text/plain": [
       "                  0           age  hypertension  heart_disease  \\\n",
       "count  67135.000000  67135.000000  67135.000000   67135.000000   \n",
       "mean   33568.000000     51.959508      0.164102       0.101423   \n",
       "std    19380.349498     23.413054      0.370371       0.301890   \n",
       "min        1.000000      0.080000      0.000000       0.000000   \n",
       "25%    16784.500000     35.000000      0.000000       0.000000   \n",
       "50%    33568.000000     56.000000      0.000000       0.000000   \n",
       "75%    50351.500000     73.000000      0.000000       0.000000   \n",
       "max    67135.000000     82.000000      1.000000       1.000000   \n",
       "\n",
       "       avg_glucose_level           bmi        stroke  \n",
       "count       67135.000000  67135.000000  67135.000000  \n",
       "mean          113.414396     29.161540      0.600089  \n",
       "std            51.258817      7.102057      0.489883  \n",
       "min            55.000000     10.100000      0.000000  \n",
       "25%            78.370000     24.400000      0.000000  \n",
       "50%            94.160000     28.800000      1.000000  \n",
       "75%           126.460000     32.600000      1.000000  \n",
       "max           291.050000     97.600000      1.000000  "
      ]
     },
     "execution_count": 163,
     "metadata": {},
     "output_type": "execute_result"
    }
   ],
   "source": [
    "# Generate descriptive statistics from dataframe.\n",
    "datei.describe() # Seven columns are numerical"
   ]
  },
  {
   "cell_type": "code",
   "execution_count": 164,
   "id": "23564b2d",
   "metadata": {},
   "outputs": [],
   "source": [
    "# Select the rows containing only the people that suffered stroke\n",
    "stroke_people = datei.loc[datei['stroke'] == 1]"
   ]
  },
  {
   "cell_type": "code",
   "execution_count": 165,
   "id": "6b2d42b3",
   "metadata": {},
   "outputs": [
    {
     "data": {
      "text/plain": [
       "40287"
      ]
     },
     "execution_count": 165,
     "metadata": {},
     "output_type": "execute_result"
    }
   ],
   "source": [
    "# Finding the number of people that suffered stroke\n",
    "stroke_people.count()[0]"
   ]
  },
  {
   "cell_type": "code",
   "execution_count": 166,
   "id": "fc32622e",
   "metadata": {},
   "outputs": [
    {
     "data": {
      "text/plain": [
       "26848"
      ]
     },
     "execution_count": 166,
     "metadata": {},
     "output_type": "execute_result"
    }
   ],
   "source": [
    "# Select the rows containing only the people that not suffered stroke\n",
    "no_stroke_people = datei.loc[datei['stroke'] == 0]\n",
    "# Finding the number of people that not suffered stroke\n",
    "no_stroke_people.count()[0]"
   ]
  },
  {
   "cell_type": "code",
   "execution_count": 167,
   "id": "79f6f742",
   "metadata": {},
   "outputs": [
    {
     "data": {
      "text/plain": [
       "array(['Private', 'Govt_job', 'Self-employed', 'children', 'Never_worked'],\n",
       "      dtype=object)"
      ]
     },
     "execution_count": 167,
     "metadata": {},
     "output_type": "execute_result"
    }
   ],
   "source": [
    "# Stroke occurrences in all the work types of these dataset\n",
    "# unique() Return unique values based on a hash table.\n",
    "datei['work_type'].unique() # There are five work types found in this dataset"
   ]
  },
  {
   "cell_type": "code",
   "execution_count": 168,
   "id": "9e1028f2",
   "metadata": {},
   "outputs": [
    {
     "data": {
      "text/plain": [
       "23711"
      ]
     },
     "execution_count": 168,
     "metadata": {},
     "output_type": "execute_result"
    }
   ],
   "source": [
    "# Getting the number of peoples that suffered stroke and are in work private\n",
    "private = datei[(datei.work_type=='Private') & (datei.stroke==1)].count()[0]\n",
    "private"
   ]
  },
  {
   "cell_type": "code",
   "execution_count": 169,
   "id": "f9a07d51",
   "metadata": {},
   "outputs": [
    {
     "data": {
      "text/plain": [
       "0                    23711\n",
       "gender               23711\n",
       "age                  23711\n",
       "hypertension         23711\n",
       "heart_disease        23711\n",
       "ever_married         23711\n",
       "work_type            23711\n",
       "Residence_type       23711\n",
       "avg_glucose_level    23711\n",
       "bmi                  23711\n",
       "smoking_status       23711\n",
       "stroke               23711\n",
       "dtype: int64"
      ]
     },
     "execution_count": 169,
     "metadata": {},
     "output_type": "execute_result"
    }
   ],
   "source": [
    "# Getting the number of peoples that suffered stroke and are in work private\n",
    "private = datei[(datei.work_type=='Private') & (datei.stroke==1)].count()\n",
    "private\n",
    "# Observe that in this case, it does not used [0] together with the count(), then it show all the details."
   ]
  },
  {
   "cell_type": "code",
   "execution_count": 170,
   "id": "4a73dfd3",
   "metadata": {},
   "outputs": [
    {
     "data": {
      "text/plain": [
       "520"
      ]
     },
     "execution_count": 170,
     "metadata": {},
     "output_type": "execute_result"
    }
   ],
   "source": [
    "# Getting the number of children that suffered stroke \n",
    "children = datei[(datei.work_type == 'children') & (datei.stroke==1)].count()[0]\n",
    "children"
   ]
  },
  {
   "cell_type": "code",
   "execution_count": 171,
   "id": "10181b3a",
   "metadata": {},
   "outputs": [
    {
     "data": {
      "text/plain": [
       "10807"
      ]
     },
     "execution_count": 171,
     "metadata": {},
     "output_type": "execute_result"
    }
   ],
   "source": [
    "# Getting the number of peoples that suffered stroke and are self-employed\n",
    "independente = datei[(datei.work_type=='Self-employed') & (datei.stroke==1)].count()[0]\n",
    "independente"
   ]
  },
  {
   "cell_type": "code",
   "execution_count": 172,
   "id": "2a0996e1",
   "metadata": {},
   "outputs": [
    {
     "data": {
      "text/plain": [
       "5164"
      ]
     },
     "execution_count": 172,
     "metadata": {},
     "output_type": "execute_result"
    }
   ],
   "source": [
    "# Getting the number of peoples that suffered stroke and are government employment\n",
    "governo = datei[(datei.work_type == 'Govt_job') & (datei.stroke==1)].count()[0]\n",
    "governo"
   ]
  },
  {
   "cell_type": "code",
   "execution_count": 173,
   "id": "bec7807b",
   "metadata": {},
   "outputs": [
    {
     "data": {
      "text/plain": [
       "array(['Female', 'Male', 'Other'], dtype=object)"
      ]
     },
     "execution_count": 173,
     "metadata": {},
     "output_type": "execute_result"
    }
   ],
   "source": [
    "# Determining the proportion, by gender, of study participants\n",
    "gender = datei['gender'].unique() # Gender occurrences in these dataset\n",
    "gender"
   ]
  },
  {
   "cell_type": "code",
   "execution_count": 174,
   "id": "fc8dde7b",
   "metadata": {},
   "outputs": [
    {
     "data": {
      "text/plain": [
       "39530"
      ]
     },
     "execution_count": 174,
     "metadata": {},
     "output_type": "execute_result"
    }
   ],
   "source": [
    "# Getting the number of women  \n",
    "Female = datei.loc[datei['gender']=='Female'].count()[0]\n",
    "Female"
   ]
  },
  {
   "cell_type": "code",
   "execution_count": 175,
   "id": "b40eae18",
   "metadata": {},
   "outputs": [
    {
     "data": {
      "text/plain": [
       "27594"
      ]
     },
     "execution_count": 175,
     "metadata": {},
     "output_type": "execute_result"
    }
   ],
   "source": [
    "# Getting the number of men\n",
    "Male = datei.loc[datei['gender']=='Male'].count()[0]\n",
    "Male"
   ]
  },
  {
   "cell_type": "code",
   "execution_count": 176,
   "id": "80a55e21",
   "metadata": {},
   "outputs": [
    {
     "data": {
      "text/plain": [
       "11"
      ]
     },
     "execution_count": 176,
     "metadata": {},
     "output_type": "execute_result"
    }
   ],
   "source": [
    "# Getting the number of other types of gender\n",
    "Other = datei.loc[datei['gender']=='Other'].count()[0]\n",
    "Other"
   ]
  },
  {
   "cell_type": "code",
   "execution_count": 177,
   "id": "32e284bd",
   "metadata": {},
   "outputs": [
    {
     "name": "stdout",
     "output_type": "stream",
     "text": [
      "Number of hypertensive people:  8817\n",
      "Number of non-hypertensive people:  31470\n"
     ]
    }
   ],
   "source": [
    "# Number of hypertensive people and non-hypertensive people that suffered stroke\n",
    "hipertenso = datei[(datei.hypertension==1) & (datei.stroke==1)].count()[0]\n",
    "print(\"Number of hypertensive people: \",hipertenso)\n",
    "non_hipertenso = datei[(datei.hypertension==0) & (datei.stroke==1)].count()[0]\n",
    "print(\"Number of non-hypertensive people: \",non_hipertenso)"
   ]
  },
  {
   "cell_type": "markdown",
   "id": "8dc03a49",
   "metadata": {},
   "source": [
    "### Determining the number of people who had a stroke by age. Finding the age with the largest number of people in the dataset who had a stroke."
   ]
  },
  {
   "cell_type": "code",
   "execution_count": 178,
   "id": "eb49e4d9",
   "metadata": {
    "scrolled": true
   },
   "outputs": [
    {
     "data": {
      "text/plain": [
       "array([1.80e+01, 5.80e+01, 3.60e+01, 6.20e+01, 8.20e+01, 3.30e+01,\n",
       "       3.70e+01, 4.10e+01, 7.00e+01, 2.50e+01, 4.30e+01, 7.20e+01,\n",
       "       2.00e+01, 2.30e+01, 2.20e+01, 6.90e+01, 4.40e+01, 1.60e+01,\n",
       "       6.40e+01, 7.80e+01, 7.90e+01, 5.10e+01, 8.10e+01, 1.00e+01,\n",
       "       6.30e+01, 8.00e+01, 5.60e+01, 3.80e+01, 4.80e+01, 5.90e+01,\n",
       "       7.70e+01, 6.70e+01, 6.60e+01, 4.60e+01, 5.60e-01, 1.20e+01,\n",
       "       5.30e+01, 3.40e+01, 6.00e+01, 7.60e+01, 5.70e+01, 7.50e+01,\n",
       "       2.60e+01, 1.70e+01, 7.30e+01, 4.50e+01, 5.00e+01, 5.00e+00,\n",
       "       2.10e+01, 2.70e+01, 7.40e+01, 1.16e+00, 3.90e+01, 3.00e+00,\n",
       "       5.40e+01, 3.20e+01, 6.50e+01, 3.00e+01, 8.00e+00, 2.80e+01,\n",
       "       1.10e+01, 2.90e+01, 4.70e+01, 7.00e+00, 2.00e+00, 4.90e+01,\n",
       "       1.90e+01, 6.10e+01, 3.50e+01, 4.00e+01, 3.10e+01, 1.30e+01,\n",
       "       5.50e+01, 5.20e+01, 2.40e+01, 1.40e+01, 6.00e+00, 7.10e+01,\n",
       "       4.20e+01, 9.00e+00, 6.80e+01, 1.50e+01, 8.00e-01, 4.00e+00,\n",
       "       1.48e+00, 4.00e-01, 1.08e+00, 1.24e+00, 1.56e+00, 1.64e+00,\n",
       "       1.40e+00, 7.20e-01, 1.72e+00, 1.88e+00, 2.40e-01, 1.32e+00,\n",
       "       8.80e-01, 6.40e-01, 1.80e+00, 1.60e-01, 4.80e-01, 8.00e-02,\n",
       "       3.20e-01, 1.00e+00])"
      ]
     },
     "execution_count": 178,
     "metadata": {},
     "output_type": "execute_result"
    }
   ],
   "source": [
    "# Determining the unique occurrences of ages of dataset\n",
    "datei['age'].unique()"
   ]
  },
  {
   "cell_type": "code",
   "execution_count": 179,
   "id": "127671d4",
   "metadata": {},
   "outputs": [
    {
     "data": {
      "text/plain": [
       "104"
      ]
     },
     "execution_count": 179,
     "metadata": {},
     "output_type": "execute_result"
    }
   ],
   "source": [
    "# Count number of distinct elements in specified axis.\n",
    "datei['age'].nunique() # There are 104 ages in dataset"
   ]
  },
  {
   "cell_type": "code",
   "execution_count": 180,
   "id": "1977ec04",
   "metadata": {},
   "outputs": [],
   "source": [
    "# Pandas tolist() is used to convert a series to list.\n",
    "idade = datei['age'].unique().tolist()\n",
    "# The enumerate() function takes a collection (e.g. a tuple) and returns it as an enumerate object.\n",
    "numerar = enumerate(idade)"
   ]
  },
  {
   "cell_type": "code",
   "execution_count": 181,
   "id": "ad2e4a3f",
   "metadata": {},
   "outputs": [
    {
     "data": {
      "text/plain": [
       "[(0, 18.0),\n",
       " (1, 58.0),\n",
       " (2, 36.0),\n",
       " (3, 62.0),\n",
       " (4, 82.0),\n",
       " (5, 33.0),\n",
       " (6, 37.0),\n",
       " (7, 41.0),\n",
       " (8, 70.0),\n",
       " (9, 25.0),\n",
       " (10, 43.0),\n",
       " (11, 72.0),\n",
       " (12, 20.0),\n",
       " (13, 23.0),\n",
       " (14, 22.0),\n",
       " (15, 69.0),\n",
       " (16, 44.0),\n",
       " (17, 16.0),\n",
       " (18, 64.0),\n",
       " (19, 78.0),\n",
       " (20, 79.0),\n",
       " (21, 51.0),\n",
       " (22, 81.0),\n",
       " (23, 10.0),\n",
       " (24, 63.0),\n",
       " (25, 80.0),\n",
       " (26, 56.0),\n",
       " (27, 38.0),\n",
       " (28, 48.0),\n",
       " (29, 59.0),\n",
       " (30, 77.0),\n",
       " (31, 67.0),\n",
       " (32, 66.0),\n",
       " (33, 46.0),\n",
       " (34, 0.56),\n",
       " (35, 12.0),\n",
       " (36, 53.0),\n",
       " (37, 34.0),\n",
       " (38, 60.0),\n",
       " (39, 76.0),\n",
       " (40, 57.0),\n",
       " (41, 75.0),\n",
       " (42, 26.0),\n",
       " (43, 17.0),\n",
       " (44, 73.0),\n",
       " (45, 45.0),\n",
       " (46, 50.0),\n",
       " (47, 5.0),\n",
       " (48, 21.0),\n",
       " (49, 27.0),\n",
       " (50, 74.0),\n",
       " (51, 1.16),\n",
       " (52, 39.0),\n",
       " (53, 3.0),\n",
       " (54, 54.0),\n",
       " (55, 32.0),\n",
       " (56, 65.0),\n",
       " (57, 30.0),\n",
       " (58, 8.0),\n",
       " (59, 28.0),\n",
       " (60, 11.0),\n",
       " (61, 29.0),\n",
       " (62, 47.0),\n",
       " (63, 7.0),\n",
       " (64, 2.0),\n",
       " (65, 49.0),\n",
       " (66, 19.0),\n",
       " (67, 61.0),\n",
       " (68, 35.0),\n",
       " (69, 40.0),\n",
       " (70, 31.0),\n",
       " (71, 13.0),\n",
       " (72, 55.0),\n",
       " (73, 52.0),\n",
       " (74, 24.0),\n",
       " (75, 14.0),\n",
       " (76, 6.0),\n",
       " (77, 71.0),\n",
       " (78, 42.0),\n",
       " (79, 9.0),\n",
       " (80, 68.0),\n",
       " (81, 15.0),\n",
       " (82, 0.8),\n",
       " (83, 4.0),\n",
       " (84, 1.48),\n",
       " (85, 0.4),\n",
       " (86, 1.08),\n",
       " (87, 1.24),\n",
       " (88, 1.56),\n",
       " (89, 1.64),\n",
       " (90, 1.4),\n",
       " (91, 0.72),\n",
       " (92, 1.72),\n",
       " (93, 1.88),\n",
       " (94, 0.24),\n",
       " (95, 1.32),\n",
       " (96, 0.88),\n",
       " (97, 0.64),\n",
       " (98, 1.8),\n",
       " (99, 0.16),\n",
       " (100, 0.48),\n",
       " (101, 0.08),\n",
       " (102, 0.32),\n",
       " (103, 1.0)]"
      ]
     },
     "execution_count": 181,
     "metadata": {},
     "output_type": "execute_result"
    }
   ],
   "source": [
    "# In order to correrct this TypeError: 'enumerate' object is not subscriptable\n",
    "# we must to transform to list\n",
    "lista_numerada = list(numerar)\n",
    "lista_numerada"
   ]
  },
  {
   "cell_type": "code",
   "execution_count": 182,
   "id": "7939038a",
   "metadata": {},
   "outputs": [
    {
     "name": "stdout",
     "output_type": "stream",
     "text": [
      "Number of people that suffered stroke with  18.0 years old :\n",
      "218\n",
      "Number of people that suffered stroke with  58.0 years old :\n",
      "645\n",
      "Number of people that suffered stroke with  36.0 years old :\n",
      "293\n",
      "Number of people that suffered stroke with  62.0 years old :\n",
      "550\n",
      "Number of people that suffered stroke with  82.0 years old :\n",
      "1427\n",
      "Number of people that suffered stroke with  33.0 years old :\n",
      "296\n",
      "Number of people that suffered stroke with  37.0 years old :\n",
      "260\n",
      "Number of people that suffered stroke with  41.0 years old :\n",
      "324\n",
      "Number of people that suffered stroke with  70.0 years old :\n",
      "881\n",
      "Number of people that suffered stroke with  25.0 years old :\n",
      "226\n",
      "Number of people that suffered stroke with  43.0 years old :\n",
      "407\n",
      "Number of people that suffered stroke with  72.0 years old :\n",
      "709\n",
      "Number of people that suffered stroke with  20.0 years old :\n",
      "263\n",
      "Number of people that suffered stroke with  23.0 years old :\n",
      "253\n",
      "Number of people that suffered stroke with  22.0 years old :\n",
      "242\n",
      "Number of people that suffered stroke with  69.0 years old :\n",
      "677\n",
      "Number of people that suffered stroke with  44.0 years old :\n",
      "292\n",
      "Number of people that suffered stroke with  16.0 years old :\n",
      "187\n",
      "Number of people that suffered stroke with  64.0 years old :\n",
      "376\n",
      "Number of people that suffered stroke with  78.0 years old :\n",
      "2279\n",
      "Number of people that suffered stroke with  79.0 years old :\n",
      "2916\n",
      "Number of people that suffered stroke with  51.0 years old :\n",
      "643\n",
      "Number of people that suffered stroke with  81.0 years old :\n",
      "1738\n",
      "Number of people that suffered stroke with  10.0 years old :\n",
      "62\n",
      "Number of people that suffered stroke with  63.0 years old :\n",
      "942\n",
      "Number of people that suffered stroke with  80.0 years old :\n",
      "1858\n",
      "Number of people that suffered stroke with  56.0 years old :\n",
      "569\n",
      "Number of people that suffered stroke with  38.0 years old :\n",
      "456\n",
      "Number of people that suffered stroke with  48.0 years old :\n",
      "490\n",
      "Number of people that suffered stroke with  59.0 years old :\n",
      "647\n",
      "Number of people that suffered stroke with  77.0 years old :\n",
      "994\n",
      "Number of people that suffered stroke with  67.0 years old :\n",
      "801\n",
      "Number of people that suffered stroke with  66.0 years old :\n",
      "848\n",
      "Number of people that suffered stroke with  46.0 years old :\n",
      "471\n",
      "Number of people that suffered stroke with  0.56 years old :\n",
      "0\n",
      "Number of people that suffered stroke with  12.0 years old :\n",
      "119\n",
      "Number of people that suffered stroke with  53.0 years old :\n",
      "409\n",
      "Number of people that suffered stroke with  34.0 years old :\n",
      "289\n",
      "Number of people that suffered stroke with  60.0 years old :\n",
      "579\n",
      "Number of people that suffered stroke with  76.0 years old :\n",
      "892\n",
      "Number of people that suffered stroke with  57.0 years old :\n",
      "775\n",
      "Number of people that suffered stroke with  75.0 years old :\n",
      "809\n",
      "Number of people that suffered stroke with  26.0 years old :\n",
      "234\n",
      "Number of people that suffered stroke with  17.0 years old :\n",
      "227\n",
      "Number of people that suffered stroke with  73.0 years old :\n",
      "759\n",
      "Number of people that suffered stroke with  45.0 years old :\n",
      "513\n",
      "Number of people that suffered stroke with  50.0 years old :\n",
      "503\n",
      "Number of people that suffered stroke with  5.0 years old :\n",
      "0\n",
      "Number of people that suffered stroke with  21.0 years old :\n",
      "290\n",
      "Number of people that suffered stroke with  27.0 years old :\n",
      "231\n",
      "Number of people that suffered stroke with  74.0 years old :\n",
      "987\n",
      "Number of people that suffered stroke with  1.16 years old :\n",
      "0\n",
      "Number of people that suffered stroke with  39.0 years old :\n",
      "295\n",
      "Number of people that suffered stroke with  3.0 years old :\n",
      "0\n",
      "Number of people that suffered stroke with  54.0 years old :\n",
      "544\n",
      "Number of people that suffered stroke with  32.0 years old :\n",
      "223\n",
      "Number of people that suffered stroke with  65.0 years old :\n",
      "716\n",
      "Number of people that suffered stroke with  30.0 years old :\n",
      "223\n",
      "Number of people that suffered stroke with  8.0 years old :\n",
      "0\n",
      "Number of people that suffered stroke with  28.0 years old :\n",
      "218\n",
      "Number of people that suffered stroke with  11.0 years old :\n",
      "95\n",
      "Number of people that suffered stroke with  29.0 years old :\n",
      "306\n",
      "Number of people that suffered stroke with  47.0 years old :\n",
      "472\n",
      "Number of people that suffered stroke with  7.0 years old :\n",
      "0\n",
      "Number of people that suffered stroke with  2.0 years old :\n",
      "0\n",
      "Number of people that suffered stroke with  49.0 years old :\n",
      "315\n",
      "Number of people that suffered stroke with  19.0 years old :\n",
      "243\n",
      "Number of people that suffered stroke with  61.0 years old :\n",
      "646\n",
      "Number of people that suffered stroke with  35.0 years old :\n",
      "281\n",
      "Number of people that suffered stroke with  40.0 years old :\n",
      "266\n",
      "Number of people that suffered stroke with  31.0 years old :\n",
      "248\n",
      "Number of people that suffered stroke with  13.0 years old :\n",
      "131\n",
      "Number of people that suffered stroke with  55.0 years old :\n",
      "387\n",
      "Number of people that suffered stroke with  52.0 years old :\n",
      "580\n",
      "Number of people that suffered stroke with  24.0 years old :\n",
      "228\n",
      "Number of people that suffered stroke with  14.0 years old :\n",
      "166\n",
      "Number of people that suffered stroke with  6.0 years old :\n",
      "0\n",
      "Number of people that suffered stroke with  71.0 years old :\n",
      "667\n",
      "Number of people that suffered stroke with  42.0 years old :\n",
      "318\n",
      "Number of people that suffered stroke with  9.0 years old :\n",
      "0\n",
      "Number of people that suffered stroke with  68.0 years old :\n",
      "688\n",
      "Number of people that suffered stroke with  15.0 years old :\n",
      "174\n",
      "Number of people that suffered stroke with  0.8 years old :\n",
      "0\n",
      "Number of people that suffered stroke with  4.0 years old :\n",
      "0\n",
      "Number of people that suffered stroke with  1.48 years old :\n",
      "0\n",
      "Number of people that suffered stroke with  0.4 years old :\n",
      "0\n",
      "Number of people that suffered stroke with  1.08 years old :\n",
      "0\n",
      "Number of people that suffered stroke with  1.24 years old :\n",
      "0\n",
      "Number of people that suffered stroke with  1.56 years old :\n",
      "0\n",
      "Number of people that suffered stroke with  1.64 years old :\n",
      "0\n",
      "Number of people that suffered stroke with  1.4 years old :\n",
      "0\n",
      "Number of people that suffered stroke with  0.72 years old :\n",
      "0\n",
      "Number of people that suffered stroke with  1.72 years old :\n",
      "0\n",
      "Number of people that suffered stroke with  1.88 years old :\n",
      "0\n",
      "Number of people that suffered stroke with  0.24 years old :\n",
      "0\n",
      "Number of people that suffered stroke with  1.32 years old :\n",
      "1\n",
      "Number of people that suffered stroke with  0.88 years old :\n",
      "0\n",
      "Number of people that suffered stroke with  0.64 years old :\n",
      "0\n",
      "Number of people that suffered stroke with  1.8 years old :\n",
      "0\n",
      "Number of people that suffered stroke with  0.16 years old :\n",
      "0\n",
      "Number of people that suffered stroke with  0.48 years old :\n",
      "0\n",
      "Number of people that suffered stroke with  0.08 years old :\n",
      "0\n",
      "Number of people that suffered stroke with  0.32 years old :\n",
      "0\n",
      "Number of people that suffered stroke with  1.0 years old :\n",
      "0\n"
     ]
    }
   ],
   "source": [
    "soma_d = {} # Creates a dictionary to store the age and their corresponding  amount of stroke people\n",
    "\n",
    "for m in range(datei['age'].nunique()):\n",
    "    soma_d[lista_numerada[m][1]]=datei[(datei.age == lista_numerada[m][1]) & datei.stroke==1].count()[0]\n",
    "    print(\"Number of people that suffered stroke with \", lista_numerada[m][1], \"years old :\")\n",
    "    print(datei[(datei.age == lista_numerada[m][1]) & datei.stroke==1].count()[0])\n",
    "    "
   ]
  },
  {
   "cell_type": "code",
   "execution_count": 183,
   "id": "422327f7",
   "metadata": {},
   "outputs": [
    {
     "data": {
      "text/plain": [
       "{18.0: 218,\n",
       " 58.0: 645,\n",
       " 36.0: 293,\n",
       " 62.0: 550,\n",
       " 82.0: 1427,\n",
       " 33.0: 296,\n",
       " 37.0: 260,\n",
       " 41.0: 324,\n",
       " 70.0: 881,\n",
       " 25.0: 226,\n",
       " 43.0: 407,\n",
       " 72.0: 709,\n",
       " 20.0: 263,\n",
       " 23.0: 253,\n",
       " 22.0: 242,\n",
       " 69.0: 677,\n",
       " 44.0: 292,\n",
       " 16.0: 187,\n",
       " 64.0: 376,\n",
       " 78.0: 2279,\n",
       " 79.0: 2916,\n",
       " 51.0: 643,\n",
       " 81.0: 1738,\n",
       " 10.0: 62,\n",
       " 63.0: 942,\n",
       " 80.0: 1858,\n",
       " 56.0: 569,\n",
       " 38.0: 456,\n",
       " 48.0: 490,\n",
       " 59.0: 647,\n",
       " 77.0: 994,\n",
       " 67.0: 801,\n",
       " 66.0: 848,\n",
       " 46.0: 471,\n",
       " 0.56: 0,\n",
       " 12.0: 119,\n",
       " 53.0: 409,\n",
       " 34.0: 289,\n",
       " 60.0: 579,\n",
       " 76.0: 892,\n",
       " 57.0: 775,\n",
       " 75.0: 809,\n",
       " 26.0: 234,\n",
       " 17.0: 227,\n",
       " 73.0: 759,\n",
       " 45.0: 513,\n",
       " 50.0: 503,\n",
       " 5.0: 0,\n",
       " 21.0: 290,\n",
       " 27.0: 231,\n",
       " 74.0: 987,\n",
       " 1.16: 0,\n",
       " 39.0: 295,\n",
       " 3.0: 0,\n",
       " 54.0: 544,\n",
       " 32.0: 223,\n",
       " 65.0: 716,\n",
       " 30.0: 223,\n",
       " 8.0: 0,\n",
       " 28.0: 218,\n",
       " 11.0: 95,\n",
       " 29.0: 306,\n",
       " 47.0: 472,\n",
       " 7.0: 0,\n",
       " 2.0: 0,\n",
       " 49.0: 315,\n",
       " 19.0: 243,\n",
       " 61.0: 646,\n",
       " 35.0: 281,\n",
       " 40.0: 266,\n",
       " 31.0: 248,\n",
       " 13.0: 131,\n",
       " 55.0: 387,\n",
       " 52.0: 580,\n",
       " 24.0: 228,\n",
       " 14.0: 166,\n",
       " 6.0: 0,\n",
       " 71.0: 667,\n",
       " 42.0: 318,\n",
       " 9.0: 0,\n",
       " 68.0: 688,\n",
       " 15.0: 174,\n",
       " 0.8: 0,\n",
       " 4.0: 0,\n",
       " 1.48: 0,\n",
       " 0.4: 0,\n",
       " 1.08: 0,\n",
       " 1.24: 0,\n",
       " 1.56: 0,\n",
       " 1.64: 0,\n",
       " 1.4: 0,\n",
       " 0.72: 0,\n",
       " 1.72: 0,\n",
       " 1.88: 0,\n",
       " 0.24: 0,\n",
       " 1.32: 1,\n",
       " 0.88: 0,\n",
       " 0.64: 0,\n",
       " 1.8: 0,\n",
       " 0.16: 0,\n",
       " 0.48: 0,\n",
       " 0.08: 0,\n",
       " 0.32: 0,\n",
       " 1.0: 0}"
      ]
     },
     "execution_count": 183,
     "metadata": {},
     "output_type": "execute_result"
    }
   ],
   "source": [
    "# Listing the dictionary showing the age and their corresponding amount of the stroke people\n",
    "soma_d"
   ]
  },
  {
   "cell_type": "code",
   "execution_count": 184,
   "id": "39fe9efb",
   "metadata": {},
   "outputs": [
    {
     "data": {
      "text/plain": [
       "2916"
      ]
     },
     "execution_count": 184,
     "metadata": {},
     "output_type": "execute_result"
    }
   ],
   "source": [
    "# Getting the largest amount of people stroke \n",
    "max(soma_d.values())"
   ]
  },
  {
   "cell_type": "code",
   "execution_count": 187,
   "id": "97be5e79",
   "metadata": {},
   "outputs": [],
   "source": [
    "# Dictionary elements are not accessed by numerical index, like soma_d[1]"
   ]
  },
  {
   "cell_type": "code",
   "execution_count": 194,
   "id": "60e70600",
   "metadata": {},
   "outputs": [
    {
     "name": "stdout",
     "output_type": "stream",
     "text": [
      "The age corresponding to the largest number of stroke people is:  79.0\n"
     ]
    }
   ],
   "source": [
    "positions = list(soma_d.values()) # Converting values in a list\n",
    "chave = list(soma_d.keys()) # Converting keys in a list\n",
    "\n",
    "for z in range(datei['age'].nunique()):\n",
    "    if positions[z] == 2916: # 2916 is the largest number of stroke people\n",
    "        print(\"The age corresponding to the largest number of stroke people is: \", chave[z])"
   ]
  },
  {
   "cell_type": "code",
   "execution_count": 143,
   "id": "2f24e237",
   "metadata": {},
   "outputs": [
    {
     "name": "stdout",
     "output_type": "stream",
     "text": [
      "1427\n"
     ]
    }
   ],
   "source": [
    "# The get() method returns the value of the item with the specified key.\n",
    "corresponding_age = soma_d.get(82.0)\n",
    "print(corresponding_age)"
   ]
  },
  {
   "cell_type": "code",
   "execution_count": 150,
   "id": "299dd395",
   "metadata": {},
   "outputs": [
    {
     "data": {
      "text/plain": [
       "4680"
      ]
     },
     "execution_count": 150,
     "metadata": {},
     "output_type": "execute_result"
    }
   ],
   "source": [
    "# The Python __sizeof__() method returns the size of the object in bytes. \n",
    "soma_d.__sizeof__()"
   ]
  },
  {
   "cell_type": "code",
   "execution_count": 151,
   "id": "08a8b76c",
   "metadata": {},
   "outputs": [],
   "source": [
    "soma_d.clear() # The clear() method removes all the elements from a dictionary."
   ]
  }
 ],
 "metadata": {
  "kernelspec": {
   "display_name": "Python 3 (ipykernel)",
   "language": "python",
   "name": "python3"
  },
  "language_info": {
   "codemirror_mode": {
    "name": "ipython",
    "version": 3
   },
   "file_extension": ".py",
   "mimetype": "text/x-python",
   "name": "python",
   "nbconvert_exporter": "python",
   "pygments_lexer": "ipython3",
   "version": "3.9.13"
  }
 },
 "nbformat": 4,
 "nbformat_minor": 5
}
