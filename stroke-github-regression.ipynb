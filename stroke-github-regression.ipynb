{
 "cells": [
  {
   "cell_type": "code",
   "execution_count": 93,
   "id": "caca48d0",
   "metadata": {},
   "outputs": [],
   "source": [
    "# Import modules\n",
    "import pandas as pd\n",
    "import numpy as np\n",
    "import matplotlib.pyplot as plt"
   ]
  },
  {
   "cell_type": "code",
   "execution_count": 94,
   "id": "60c21b79",
   "metadata": {},
   "outputs": [],
   "source": [
    "# Open the CSV file contaning the dataset\n",
    "datei = pd.read_csv(\"/home/andre/Desktop/ciência de dados - bootcamp/exercicio/stroke_data.csv\")"
   ]
  },
  {
   "cell_type": "code",
   "execution_count": 95,
   "id": "66e14e2f",
   "metadata": {},
   "outputs": [
    {
     "data": {
      "text/html": [
       "<div>\n",
       "<style scoped>\n",
       "    .dataframe tbody tr th:only-of-type {\n",
       "        vertical-align: middle;\n",
       "    }\n",
       "\n",
       "    .dataframe tbody tr th {\n",
       "        vertical-align: top;\n",
       "    }\n",
       "\n",
       "    .dataframe thead th {\n",
       "        text-align: right;\n",
       "    }\n",
       "</style>\n",
       "<table border=\"1\" class=\"dataframe\">\n",
       "  <thead>\n",
       "    <tr style=\"text-align: right;\">\n",
       "      <th></th>\n",
       "      <th>0</th>\n",
       "      <th>gender</th>\n",
       "      <th>age</th>\n",
       "      <th>hypertension</th>\n",
       "      <th>heart_disease</th>\n",
       "      <th>ever_married</th>\n",
       "      <th>work_type</th>\n",
       "      <th>Residence_type</th>\n",
       "      <th>avg_glucose_level</th>\n",
       "      <th>bmi</th>\n",
       "      <th>smoking_status</th>\n",
       "      <th>stroke</th>\n",
       "    </tr>\n",
       "  </thead>\n",
       "  <tbody>\n",
       "    <tr>\n",
       "      <th>0</th>\n",
       "      <td>1</td>\n",
       "      <td>Female</td>\n",
       "      <td>18.0</td>\n",
       "      <td>0</td>\n",
       "      <td>0</td>\n",
       "      <td>No</td>\n",
       "      <td>Private</td>\n",
       "      <td>Urban</td>\n",
       "      <td>94.19</td>\n",
       "      <td>12.12</td>\n",
       "      <td>smokes</td>\n",
       "      <td>1</td>\n",
       "    </tr>\n",
       "    <tr>\n",
       "      <th>1</th>\n",
       "      <td>2</td>\n",
       "      <td>Male</td>\n",
       "      <td>58.0</td>\n",
       "      <td>1</td>\n",
       "      <td>0</td>\n",
       "      <td>Yes</td>\n",
       "      <td>Private</td>\n",
       "      <td>Rural</td>\n",
       "      <td>154.24</td>\n",
       "      <td>33.70</td>\n",
       "      <td>never_smoked</td>\n",
       "      <td>0</td>\n",
       "    </tr>\n",
       "    <tr>\n",
       "      <th>2</th>\n",
       "      <td>3</td>\n",
       "      <td>Female</td>\n",
       "      <td>36.0</td>\n",
       "      <td>0</td>\n",
       "      <td>0</td>\n",
       "      <td>Yes</td>\n",
       "      <td>Govt_job</td>\n",
       "      <td>Urban</td>\n",
       "      <td>72.63</td>\n",
       "      <td>24.70</td>\n",
       "      <td>smokes</td>\n",
       "      <td>0</td>\n",
       "    </tr>\n",
       "    <tr>\n",
       "      <th>3</th>\n",
       "      <td>4</td>\n",
       "      <td>Female</td>\n",
       "      <td>62.0</td>\n",
       "      <td>0</td>\n",
       "      <td>0</td>\n",
       "      <td>Yes</td>\n",
       "      <td>Self-employed</td>\n",
       "      <td>Rural</td>\n",
       "      <td>85.52</td>\n",
       "      <td>31.20</td>\n",
       "      <td>formerly smoked</td>\n",
       "      <td>0</td>\n",
       "    </tr>\n",
       "    <tr>\n",
       "      <th>4</th>\n",
       "      <td>5</td>\n",
       "      <td>Female</td>\n",
       "      <td>82.0</td>\n",
       "      <td>0</td>\n",
       "      <td>0</td>\n",
       "      <td>Yes</td>\n",
       "      <td>Private</td>\n",
       "      <td>Rural</td>\n",
       "      <td>59.32</td>\n",
       "      <td>33.20</td>\n",
       "      <td>smokes</td>\n",
       "      <td>1</td>\n",
       "    </tr>\n",
       "  </tbody>\n",
       "</table>\n",
       "</div>"
      ],
      "text/plain": [
       "   0  gender   age  hypertension  heart_disease ever_married      work_type  \\\n",
       "0  1  Female  18.0             0              0           No        Private   \n",
       "1  2    Male  58.0             1              0          Yes        Private   \n",
       "2  3  Female  36.0             0              0          Yes       Govt_job   \n",
       "3  4  Female  62.0             0              0          Yes  Self-employed   \n",
       "4  5  Female  82.0             0              0          Yes        Private   \n",
       "\n",
       "  Residence_type  avg_glucose_level    bmi   smoking_status  stroke  \n",
       "0          Urban              94.19  12.12           smokes       1  \n",
       "1          Rural             154.24  33.70     never_smoked       0  \n",
       "2          Urban              72.63  24.70           smokes       0  \n",
       "3          Rural              85.52  31.20  formerly smoked       0  \n",
       "4          Rural              59.32  33.20           smokes       1  "
      ]
     },
     "execution_count": 95,
     "metadata": {},
     "output_type": "execute_result"
    }
   ],
   "source": [
    "# Show the first five registers from dataframe.\n",
    "datei.head()"
   ]
  },
  {
   "cell_type": "code",
   "execution_count": 96,
   "id": "7832a84f",
   "metadata": {},
   "outputs": [
    {
     "data": {
      "text/plain": [
       "(67135, 12)"
      ]
     },
     "execution_count": 96,
     "metadata": {},
     "output_type": "execute_result"
    }
   ],
   "source": [
    "# Return a tuple representing the dimensionality of the DataFrame.\n",
    "datei.shape"
   ]
  },
  {
   "cell_type": "code",
   "execution_count": 97,
   "id": "c1a78fac",
   "metadata": {},
   "outputs": [
    {
     "data": {
      "text/plain": [
       "Index(['0', 'gender', 'age', 'hypertension', 'heart_disease', 'ever_married',\n",
       "       'work_type', 'Residence_type', 'avg_glucose_level', 'bmi',\n",
       "       'smoking_status', 'stroke'],\n",
       "      dtype='object')"
      ]
     },
     "execution_count": 97,
     "metadata": {},
     "output_type": "execute_result"
    }
   ],
   "source": [
    "# Show the column labels of the DataFrame.\n",
    "datei.columns # These dataframe contain 12 columns"
   ]
  },
  {
   "cell_type": "code",
   "execution_count": 98,
   "id": "7081c50f",
   "metadata": {},
   "outputs": [
    {
     "data": {
      "text/html": [
       "<div>\n",
       "<style scoped>\n",
       "    .dataframe tbody tr th:only-of-type {\n",
       "        vertical-align: middle;\n",
       "    }\n",
       "\n",
       "    .dataframe tbody tr th {\n",
       "        vertical-align: top;\n",
       "    }\n",
       "\n",
       "    .dataframe thead th {\n",
       "        text-align: right;\n",
       "    }\n",
       "</style>\n",
       "<table border=\"1\" class=\"dataframe\">\n",
       "  <thead>\n",
       "    <tr style=\"text-align: right;\">\n",
       "      <th></th>\n",
       "      <th>0</th>\n",
       "      <th>age</th>\n",
       "      <th>hypertension</th>\n",
       "      <th>heart_disease</th>\n",
       "      <th>avg_glucose_level</th>\n",
       "      <th>bmi</th>\n",
       "      <th>stroke</th>\n",
       "    </tr>\n",
       "  </thead>\n",
       "  <tbody>\n",
       "    <tr>\n",
       "      <th>count</th>\n",
       "      <td>67135.000000</td>\n",
       "      <td>67135.000000</td>\n",
       "      <td>67135.000000</td>\n",
       "      <td>67135.000000</td>\n",
       "      <td>67135.000000</td>\n",
       "      <td>67135.000000</td>\n",
       "      <td>67135.000000</td>\n",
       "    </tr>\n",
       "    <tr>\n",
       "      <th>mean</th>\n",
       "      <td>33568.000000</td>\n",
       "      <td>51.959508</td>\n",
       "      <td>0.164102</td>\n",
       "      <td>0.101423</td>\n",
       "      <td>113.414396</td>\n",
       "      <td>29.161540</td>\n",
       "      <td>0.600089</td>\n",
       "    </tr>\n",
       "    <tr>\n",
       "      <th>std</th>\n",
       "      <td>19380.349498</td>\n",
       "      <td>23.413054</td>\n",
       "      <td>0.370371</td>\n",
       "      <td>0.301890</td>\n",
       "      <td>51.258817</td>\n",
       "      <td>7.102057</td>\n",
       "      <td>0.489883</td>\n",
       "    </tr>\n",
       "    <tr>\n",
       "      <th>min</th>\n",
       "      <td>1.000000</td>\n",
       "      <td>0.080000</td>\n",
       "      <td>0.000000</td>\n",
       "      <td>0.000000</td>\n",
       "      <td>55.000000</td>\n",
       "      <td>10.100000</td>\n",
       "      <td>0.000000</td>\n",
       "    </tr>\n",
       "    <tr>\n",
       "      <th>25%</th>\n",
       "      <td>16784.500000</td>\n",
       "      <td>35.000000</td>\n",
       "      <td>0.000000</td>\n",
       "      <td>0.000000</td>\n",
       "      <td>78.370000</td>\n",
       "      <td>24.400000</td>\n",
       "      <td>0.000000</td>\n",
       "    </tr>\n",
       "    <tr>\n",
       "      <th>50%</th>\n",
       "      <td>33568.000000</td>\n",
       "      <td>56.000000</td>\n",
       "      <td>0.000000</td>\n",
       "      <td>0.000000</td>\n",
       "      <td>94.160000</td>\n",
       "      <td>28.800000</td>\n",
       "      <td>1.000000</td>\n",
       "    </tr>\n",
       "    <tr>\n",
       "      <th>75%</th>\n",
       "      <td>50351.500000</td>\n",
       "      <td>73.000000</td>\n",
       "      <td>0.000000</td>\n",
       "      <td>0.000000</td>\n",
       "      <td>126.460000</td>\n",
       "      <td>32.600000</td>\n",
       "      <td>1.000000</td>\n",
       "    </tr>\n",
       "    <tr>\n",
       "      <th>max</th>\n",
       "      <td>67135.000000</td>\n",
       "      <td>82.000000</td>\n",
       "      <td>1.000000</td>\n",
       "      <td>1.000000</td>\n",
       "      <td>291.050000</td>\n",
       "      <td>97.600000</td>\n",
       "      <td>1.000000</td>\n",
       "    </tr>\n",
       "  </tbody>\n",
       "</table>\n",
       "</div>"
      ],
      "text/plain": [
       "                  0           age  hypertension  heart_disease  \\\n",
       "count  67135.000000  67135.000000  67135.000000   67135.000000   \n",
       "mean   33568.000000     51.959508      0.164102       0.101423   \n",
       "std    19380.349498     23.413054      0.370371       0.301890   \n",
       "min        1.000000      0.080000      0.000000       0.000000   \n",
       "25%    16784.500000     35.000000      0.000000       0.000000   \n",
       "50%    33568.000000     56.000000      0.000000       0.000000   \n",
       "75%    50351.500000     73.000000      0.000000       0.000000   \n",
       "max    67135.000000     82.000000      1.000000       1.000000   \n",
       "\n",
       "       avg_glucose_level           bmi        stroke  \n",
       "count       67135.000000  67135.000000  67135.000000  \n",
       "mean          113.414396     29.161540      0.600089  \n",
       "std            51.258817      7.102057      0.489883  \n",
       "min            55.000000     10.100000      0.000000  \n",
       "25%            78.370000     24.400000      0.000000  \n",
       "50%            94.160000     28.800000      1.000000  \n",
       "75%           126.460000     32.600000      1.000000  \n",
       "max           291.050000     97.600000      1.000000  "
      ]
     },
     "execution_count": 98,
     "metadata": {},
     "output_type": "execute_result"
    }
   ],
   "source": [
    "# Generate descriptive statistics from dataframe.\n",
    "datei.describe() # Seven columns are numerical"
   ]
  },
  {
   "cell_type": "code",
   "execution_count": 99,
   "id": "23564b2d",
   "metadata": {},
   "outputs": [],
   "source": [
    "# Select the rows containing only the people that suffered stroke\n",
    "stroke_people = datei.loc[datei['stroke'] == 1]"
   ]
  },
  {
   "cell_type": "code",
   "execution_count": 100,
   "id": "6b2d42b3",
   "metadata": {},
   "outputs": [
    {
     "data": {
      "text/plain": [
       "40287"
      ]
     },
     "execution_count": 100,
     "metadata": {},
     "output_type": "execute_result"
    }
   ],
   "source": [
    "# Finding the number of people that suffered stroke\n",
    "stroke_people.count()[0]"
   ]
  },
  {
   "cell_type": "code",
   "execution_count": 101,
   "id": "fc32622e",
   "metadata": {},
   "outputs": [
    {
     "data": {
      "text/plain": [
       "26848"
      ]
     },
     "execution_count": 101,
     "metadata": {},
     "output_type": "execute_result"
    }
   ],
   "source": [
    "# Select the rows containing only the people that not suffered stroke\n",
    "no_stroke_people = datei.loc[datei['stroke'] == 0]\n",
    "# Finding the number of people that not suffered stroke\n",
    "no_stroke_people.count()[0]"
   ]
  },
  {
   "cell_type": "code",
   "execution_count": 102,
   "id": "c1d245aa",
   "metadata": {},
   "outputs": [
    {
     "name": "stdout",
     "output_type": "stream",
     "text": [
      "People that suffered stroke (%):  60.0089372160572\n",
      "People that not suffered stroke (%):  39.9910627839428\n"
     ]
    }
   ],
   "source": [
    "# Estimating the percentage for people that suffered and not suffered stroke\n",
    "stroke_people_percentage = (stroke_people.count()[0]/datei.count()[0])*100\n",
    "print('People that suffered stroke (%): ', stroke_people_percentage)\n",
    "no_stroke_people_percentage = (no_stroke_people.count()[0]/datei.count()[0])*100\n",
    "print('People that not suffered stroke (%): ', no_stroke_people_percentage)"
   ]
  },
  {
   "cell_type": "code",
   "execution_count": 103,
   "id": "8a02aba9",
   "metadata": {},
   "outputs": [],
   "source": [
    "# Function to analyse the significance between data by Student's t-Test\n",
    "from scipy.stats import ttest_ind\n",
    "\n",
    "def student_t_test(sample1, sample2): \n",
    "    t_stat, p_value = ttest_ind(sample1, sample2)\n",
    "    print(\"T-statistic value: \", t_stat)  \n",
    "    print(\"P-Value: \", p_value)\n",
    "    if p_value <= 0.5:\n",
    "        print(\"There is statistical differences between the data\")\n",
    "    else:\n",
    "        print(\"There is not statistical differences between the data\")    "
   ]
  },
  {
   "cell_type": "code",
   "execution_count": 104,
   "id": "5bc955f6",
   "metadata": {},
   "outputs": [
    {
     "data": {
      "image/png": "[encoded data removed]",
      "text/plain": [
       "<Figure size 640x480 with 1 Axes>"
      ]
     },
     "metadata": {},
     "output_type": "display_data"
    }
   ],
   "source": [
    "# Draw a histogram with the people that not suffered stroke by gender\n",
    "plt.hist(no_stroke_people['gender']); # hist. Compute and plot a histogram\n",
    "plt.title('People that not suffered stroke by gender')\n",
    "plt.ylabel('Number of people', fontsize=10)\n",
    "plt.xlabel('Gender', fontsize=10)\n",
    "plt.show() # show() Display all open figures"
   ]
  },
  {
   "cell_type": "code",
   "execution_count": 105,
   "id": "79f6f742",
   "metadata": {},
   "outputs": [
    {
     "data": {
      "text/plain": [
       "array(['Private', 'Govt_job', 'Self-employed', 'children', 'Never_worked'],\n",
       "      dtype=object)"
      ]
     },
     "execution_count": 105,
     "metadata": {},
     "output_type": "execute_result"
    }
   ],
   "source": [
    "# Stroke occurrences in all the work types of these dataset\n",
    "# unique() Return unique values based on a hash table.\n",
    "datei['work_type'].unique() # There are five work types found in this dataset"
   ]
  },
  {
   "cell_type": "code",
   "execution_count": 106,
   "id": "9e1028f2",
   "metadata": {},
   "outputs": [
    {
     "data": {
      "text/plain": [
       "23711"
      ]
     },
     "execution_count": 106,
     "metadata": {},
     "output_type": "execute_result"
    }
   ],
   "source": [
    "# Getting the number of peoples that suffered stroke and are in work private\n",
    "private = datei[(datei.work_type=='Private') & (datei.stroke==1)].count()[0]\n",
    "private"
   ]
  },
  {
   "cell_type": "code",
   "execution_count": 107,
   "id": "f9a07d51",
   "metadata": {},
   "outputs": [
    {
     "data": {
      "text/plain": [
       "0                    23711\n",
       "gender               23711\n",
       "age                  23711\n",
       "hypertension         23711\n",
       "heart_disease        23711\n",
       "ever_married         23711\n",
       "work_type            23711\n",
       "Residence_type       23711\n",
       "avg_glucose_level    23711\n",
       "bmi                  23711\n",
       "smoking_status       23711\n",
       "stroke               23711\n",
       "dtype: int64"
      ]
     },
     "execution_count": 107,
     "metadata": {},
     "output_type": "execute_result"
    }
   ],
   "source": [
    "# Getting the number of peoples that suffered stroke and are in work private\n",
    "private1 = datei[(datei.work_type=='Private') & (datei.stroke==1)].count()\n",
    "private1\n",
    "# Observe that in this case, it does not used [0] together with the count(), then it show all the details."
   ]
  },
  {
   "cell_type": "code",
   "execution_count": 108,
   "id": "4a73dfd3",
   "metadata": {},
   "outputs": [
    {
     "data": {
      "text/plain": [
       "520"
      ]
     },
     "execution_count": 108,
     "metadata": {},
     "output_type": "execute_result"
    }
   ],
   "source": [
    "# Getting the number of children that suffered stroke \n",
    "children = datei[(datei.work_type == 'children') & (datei.stroke==1)].count()[0]\n",
    "children"
   ]
  },
  {
   "cell_type": "code",
   "execution_count": 109,
   "id": "10181b3a",
   "metadata": {},
   "outputs": [
    {
     "data": {
      "text/plain": [
       "10807"
      ]
     },
     "execution_count": 109,
     "metadata": {},
     "output_type": "execute_result"
    }
   ],
   "source": [
    "# Getting the number of peoples that suffered stroke and are self-employed\n",
    "independente = datei[(datei.work_type=='Self-employed') & (datei.stroke==1)].count()[0]\n",
    "independente"
   ]
  },
  {
   "cell_type": "code",
   "execution_count": 110,
   "id": "2a0996e1",
   "metadata": {},
   "outputs": [
    {
     "data": {
      "text/plain": [
       "5164"
      ]
     },
     "execution_count": 110,
     "metadata": {},
     "output_type": "execute_result"
    }
   ],
   "source": [
    "# Getting the number of peoples that suffered stroke and are government employment\n",
    "governo = datei[(datei.work_type == 'Govt_job') & (datei.stroke==1)].count()[0]\n",
    "governo"
   ]
  },
  {
   "cell_type": "code",
   "execution_count": 111,
   "id": "796fca9a",
   "metadata": {},
   "outputs": [
    {
     "data": {
      "text/plain": [
       "5164"
      ]
     },
     "execution_count": 111,
     "metadata": {},
     "output_type": "execute_result"
    }
   ],
   "source": [
    "# Another way to do the same thing as above\n",
    "governo = datei[(datei.work_type == 'Govt_job') & (datei.stroke==1)].count()\n",
    "governo['work_type']"
   ]
  },
  {
   "cell_type": "code",
   "execution_count": 112,
   "id": "58be60f1",
   "metadata": {},
   "outputs": [],
   "source": [
    "# Selecting the variables filtered: peoples in different work types that suffered stroke\n",
    "gov = datei[(datei.work_type == 'Govt_job') & (datei.stroke==1)]\n",
    "pri = datei[(datei.work_type=='Private') & (datei.stroke==1)]\n",
    "ind = datei[(datei.work_type=='Self-employed') & (datei.stroke==1)]\n",
    "chi = datei[(datei.work_type == 'children') & (datei.stroke==1)]\n",
    "ntr = datei[(datei.work_type == 'Never_worked') & (datei.stroke==1)]"
   ]
  },
  {
   "cell_type": "code",
   "execution_count": 113,
   "id": "98a7128d",
   "metadata": {},
   "outputs": [],
   "source": [
    "# Put the values in a list\n",
    "x = [gov['work_type'], pri['work_type'], ind['work_type'], chi['work_type'], ntr['work_type']]"
   ]
  },
  {
   "cell_type": "code",
   "execution_count": 114,
   "id": "6b1b5789",
   "metadata": {},
   "outputs": [
    {
     "data": {
      "image/png": "[encoded data removed]",
      "text/plain": [
       "<Figure size 640x480 with 1 Axes>"
      ]
     },
     "metadata": {},
     "output_type": "display_data"
    }
   ],
   "source": [
    "# Draw a histogram with the people that suffered stroke by work type\n",
    "plt.hist(x, rwidth=1); # hist. Compute and plot a histogram\n",
    "plt.title('People that suffered stroke by work type')\n",
    "plt.ylabel('Number of people', fontsize=10)\n",
    "plt.xlabel('Work type', fontsize=10)\n",
    "plt.show() # show() Display all open figures"
   ]
  },
  {
   "cell_type": "code",
   "execution_count": 115,
   "id": "bec7807b",
   "metadata": {},
   "outputs": [
    {
     "data": {
      "text/plain": [
       "array(['Female', 'Male', 'Other'], dtype=object)"
      ]
     },
     "execution_count": 115,
     "metadata": {},
     "output_type": "execute_result"
    }
   ],
   "source": [
    "# Determining the proportion, by gender, of study participants\n",
    "gender = datei['gender'].unique() # Gender occurrences in these dataset\n",
    "gender"
   ]
  },
  {
   "cell_type": "code",
   "execution_count": 116,
   "id": "fc8dde7b",
   "metadata": {},
   "outputs": [
    {
     "data": {
      "text/plain": [
       "39530"
      ]
     },
     "execution_count": 116,
     "metadata": {},
     "output_type": "execute_result"
    }
   ],
   "source": [
    "# Getting the number of women  \n",
    "Female = datei.loc[datei['gender']=='Female'].count()[0]\n",
    "Female"
   ]
  },
  {
   "cell_type": "code",
   "execution_count": 117,
   "id": "b40eae18",
   "metadata": {},
   "outputs": [
    {
     "data": {
      "text/plain": [
       "27594"
      ]
     },
     "execution_count": 117,
     "metadata": {},
     "output_type": "execute_result"
    }
   ],
   "source": [
    "# Getting the number of men\n",
    "Male = datei.loc[datei['gender']=='Male'].count()[0]\n",
    "Male"
   ]
  },
  {
   "cell_type": "code",
   "execution_count": 118,
   "id": "80a55e21",
   "metadata": {},
   "outputs": [
    {
     "data": {
      "text/plain": [
       "11"
      ]
     },
     "execution_count": 118,
     "metadata": {},
     "output_type": "execute_result"
    }
   ],
   "source": [
    "# Getting the number of other types of gender\n",
    "Other = datei.loc[datei['gender']=='Other'].count()[0]\n",
    "Other"
   ]
  },
  {
   "cell_type": "code",
   "execution_count": 119,
   "id": "32e284bd",
   "metadata": {},
   "outputs": [
    {
     "name": "stdout",
     "output_type": "stream",
     "text": [
      "Number of hypertensive people:  8817\n",
      "Number of non-hypertensive people:  31470\n"
     ]
    }
   ],
   "source": [
    "# Number of hypertensive people and non-hypertensive people that suffered stroke\n",
    "hipertenso = datei[(datei.hypertension==1) & (datei.stroke==1)].count()[0]\n",
    "print(\"Number of hypertensive people: \",hipertenso)\n",
    "non_hipertenso = datei[(datei.hypertension==0) & (datei.stroke==1)].count()[0]\n",
    "print(\"Number of non-hypertensive people: \",non_hipertenso)"
   ]
  },
  {
   "cell_type": "code",
   "execution_count": 120,
   "id": "9bfde9ce",
   "metadata": {},
   "outputs": [
    {
     "data": {
      "text/plain": [
       "0         94.19\n",
       "4         59.32\n",
       "7        156.70\n",
       "8         64.06\n",
       "9         76.34\n",
       "          ...  \n",
       "67129     86.36\n",
       "67130    109.06\n",
       "67132    141.18\n",
       "67133    199.71\n",
       "67134    202.96\n",
       "Name: avg_glucose_level, Length: 31470, dtype: float64"
      ]
     },
     "execution_count": 120,
     "metadata": {},
     "output_type": "execute_result"
    }
   ],
   "source": [
    "# Preparing the data to use in Student's t-test to evaluate the effect of average glucose level in hypertensive and non-hypertensive people that suffered stroke \n",
    "hipertenso1 = datei[(datei.hypertension==1) & (datei.stroke==1)]\n",
    "hipertenso1['avg_glucose_level']\n",
    "non_hipertenso1 = datei[(datei.hypertension==0) & (datei.stroke==1)]\n",
    "non_hipertenso1['avg_glucose_level']"
   ]
  },
  {
   "cell_type": "code",
   "execution_count": 121,
   "id": "d421910f",
   "metadata": {},
   "outputs": [
    {
     "name": "stdout",
     "output_type": "stream",
     "text": [
      "T-statistic value:  24.11055604421617\n",
      "P-Value:  1.5574128115972376e-127\n",
      "There is statistical differences between the data\n"
     ]
    }
   ],
   "source": [
    "# Estimanting the Student's t-test\n",
    "student_t_test(hipertenso1['avg_glucose_level'], non_hipertenso1['avg_glucose_level'])"
   ]
  },
  {
   "cell_type": "code",
   "execution_count": 122,
   "id": "d43568de",
   "metadata": {},
   "outputs": [
    {
     "name": "stdout",
     "output_type": "stream",
     "text": [
      "Average glucose level in hypertensive people that suffered stroke...:  132.46\n",
      "Average glucose level in non-hypertensive people that suffered stroke...:  116.45\n"
     ]
    }
   ],
   "source": [
    "# Showing averages of the mean glucose level found in hypertensive and non-hypertensive people who have had a stroke\n",
    "print('Average glucose level in hypertensive people that suffered stroke...: ', round(hipertenso1['avg_glucose_level'].mean(),2)) \n",
    "print('Average glucose level in non-hypertensive people that suffered stroke...: ', round(non_hipertenso1['avg_glucose_level'].mean(),2))"
   ]
  },
  {
   "cell_type": "markdown",
   "id": "8dc03a49",
   "metadata": {},
   "source": [
    "### Determining the number of people who had a stroke by age. Finding the age with the largest number of people in the dataset who had a stroke."
   ]
  },
  {
   "cell_type": "code",
   "execution_count": 123,
   "id": "eb49e4d9",
   "metadata": {
    "scrolled": true
   },
   "outputs": [
    {
     "data": {
      "text/plain": [
       "array([1.80e+01, 5.80e+01, 3.60e+01, 6.20e+01, 8.20e+01, 3.30e+01,\n",
       "       3.70e+01, 4.10e+01, 7.00e+01, 2.50e+01, 4.30e+01, 7.20e+01,\n",
       "       2.00e+01, 2.30e+01, 2.20e+01, 6.90e+01, 4.40e+01, 1.60e+01,\n",
       "       6.40e+01, 7.80e+01, 7.90e+01, 5.10e+01, 8.10e+01, 1.00e+01,\n",
       "       6.30e+01, 8.00e+01, 5.60e+01, 3.80e+01, 4.80e+01, 5.90e+01,\n",
       "       7.70e+01, 6.70e+01, 6.60e+01, 4.60e+01, 5.60e-01, 1.20e+01,\n",
       "       5.30e+01, 3.40e+01, 6.00e+01, 7.60e+01, 5.70e+01, 7.50e+01,\n",
       "       2.60e+01, 1.70e+01, 7.30e+01, 4.50e+01, 5.00e+01, 5.00e+00,\n",
       "       2.10e+01, 2.70e+01, 7.40e+01, 1.16e+00, 3.90e+01, 3.00e+00,\n",
       "       5.40e+01, 3.20e+01, 6.50e+01, 3.00e+01, 8.00e+00, 2.80e+01,\n",
       "       1.10e+01, 2.90e+01, 4.70e+01, 7.00e+00, 2.00e+00, 4.90e+01,\n",
       "       1.90e+01, 6.10e+01, 3.50e+01, 4.00e+01, 3.10e+01, 1.30e+01,\n",
       "       5.50e+01, 5.20e+01, 2.40e+01, 1.40e+01, 6.00e+00, 7.10e+01,\n",
       "       4.20e+01, 9.00e+00, 6.80e+01, 1.50e+01, 8.00e-01, 4.00e+00,\n",
       "       1.48e+00, 4.00e-01, 1.08e+00, 1.24e+00, 1.56e+00, 1.64e+00,\n",
       "       1.40e+00, 7.20e-01, 1.72e+00, 1.88e+00, 2.40e-01, 1.32e+00,\n",
       "       8.80e-01, 6.40e-01, 1.80e+00, 1.60e-01, 4.80e-01, 8.00e-02,\n",
       "       3.20e-01, 1.00e+00])"
      ]
     },
     "execution_count": 123,
     "metadata": {},
     "output_type": "execute_result"
    }
   ],
   "source": [
    "# Determining the unique occurrences of ages of dataset\n",
    "datei['age'].unique()"
   ]
  },
  {
   "cell_type": "code",
   "execution_count": 124,
   "id": "127671d4",
   "metadata": {},
   "outputs": [
    {
     "data": {
      "text/plain": [
       "104"
      ]
     },
     "execution_count": 124,
     "metadata": {},
     "output_type": "execute_result"
    }
   ],
   "source": [
    "# Count number of distinct elements in specified axis.\n",
    "datei['age'].nunique() # There are 104 ages in dataset"
   ]
  },
  {
   "cell_type": "code",
   "execution_count": 125,
   "id": "1977ec04",
   "metadata": {},
   "outputs": [],
   "source": [
    "# Pandas tolist() is used to convert a series to list.\n",
    "idade = datei['age'].unique().tolist()\n",
    "# The enumerate() function takes a collection (e.g. a tuple) and returns it as an enumerate object.\n",
    "numerar = enumerate(idade)"
   ]
  },
  {
   "cell_type": "code",
   "execution_count": 126,
   "id": "ad2e4a3f",
   "metadata": {},
   "outputs": [
    {
     "data": {
      "text/plain": [
       "[(0, 18.0),\n",
       " (1, 58.0),\n",
       " (2, 36.0),\n",
       " (3, 62.0),\n",
       " (4, 82.0),\n",
       " (5, 33.0),\n",
       " (6, 37.0),\n",
       " (7, 41.0),\n",
       " (8, 70.0),\n",
       " (9, 25.0),\n",
       " (10, 43.0),\n",
       " (11, 72.0),\n",
       " (12, 20.0),\n",
       " (13, 23.0),\n",
       " (14, 22.0),\n",
       " (15, 69.0),\n",
       " (16, 44.0),\n",
       " (17, 16.0),\n",
       " (18, 64.0),\n",
       " (19, 78.0),\n",
       " (20, 79.0),\n",
       " (21, 51.0),\n",
       " (22, 81.0),\n",
       " (23, 10.0),\n",
       " (24, 63.0),\n",
       " (25, 80.0),\n",
       " (26, 56.0),\n",
       " (27, 38.0),\n",
       " (28, 48.0),\n",
       " (29, 59.0),\n",
       " (30, 77.0),\n",
       " (31, 67.0),\n",
       " (32, 66.0),\n",
       " (33, 46.0),\n",
       " (34, 0.56),\n",
       " (35, 12.0),\n",
       " (36, 53.0),\n",
       " (37, 34.0),\n",
       " (38, 60.0),\n",
       " (39, 76.0),\n",
       " (40, 57.0),\n",
       " (41, 75.0),\n",
       " (42, 26.0),\n",
       " (43, 17.0),\n",
       " (44, 73.0),\n",
       " (45, 45.0),\n",
       " (46, 50.0),\n",
       " (47, 5.0),\n",
       " (48, 21.0),\n",
       " (49, 27.0),\n",
       " (50, 74.0),\n",
       " (51, 1.16),\n",
       " (52, 39.0),\n",
       " (53, 3.0),\n",
       " (54, 54.0),\n",
       " (55, 32.0),\n",
       " (56, 65.0),\n",
       " (57, 30.0),\n",
       " (58, 8.0),\n",
       " (59, 28.0),\n",
       " (60, 11.0),\n",
       " (61, 29.0),\n",
       " (62, 47.0),\n",
       " (63, 7.0),\n",
       " (64, 2.0),\n",
       " (65, 49.0),\n",
       " (66, 19.0),\n",
       " (67, 61.0),\n",
       " (68, 35.0),\n",
       " (69, 40.0),\n",
       " (70, 31.0),\n",
       " (71, 13.0),\n",
       " (72, 55.0),\n",
       " (73, 52.0),\n",
       " (74, 24.0),\n",
       " (75, 14.0),\n",
       " (76, 6.0),\n",
       " (77, 71.0),\n",
       " (78, 42.0),\n",
       " (79, 9.0),\n",
       " (80, 68.0),\n",
       " (81, 15.0),\n",
       " (82, 0.8),\n",
       " (83, 4.0),\n",
       " (84, 1.48),\n",
       " (85, 0.4),\n",
       " (86, 1.08),\n",
       " (87, 1.24),\n",
       " (88, 1.56),\n",
       " (89, 1.64),\n",
       " (90, 1.4),\n",
       " (91, 0.72),\n",
       " (92, 1.72),\n",
       " (93, 1.88),\n",
       " (94, 0.24),\n",
       " (95, 1.32),\n",
       " (96, 0.88),\n",
       " (97, 0.64),\n",
       " (98, 1.8),\n",
       " (99, 0.16),\n",
       " (100, 0.48),\n",
       " (101, 0.08),\n",
       " (102, 0.32),\n",
       " (103, 1.0)]"
      ]
     },
     "execution_count": 126,
     "metadata": {},
     "output_type": "execute_result"
    }
   ],
   "source": [
    "# In order to correrct this TypeError: 'enumerate' object is not subscriptable\n",
    "# we must to transform to list\n",
    "lista_numerada = list(numerar)\n",
    "lista_numerada"
   ]
  },
  {
   "cell_type": "code",
   "execution_count": 127,
   "id": "7939038a",
   "metadata": {},
   "outputs": [
    {
     "name": "stdout",
     "output_type": "stream",
     "text": [
      "Number of people that suffered stroke with  18.0 years old :\n",
      "218\n",
      "Number of people that suffered stroke with  58.0 years old :\n",
      "645\n",
      "Number of people that suffered stroke with  36.0 years old :\n",
      "293\n",
      "Number of people that suffered stroke with  62.0 years old :\n",
      "550\n",
      "Number of people that suffered stroke with  82.0 years old :\n",
      "1427\n",
      "Number of people that suffered stroke with  33.0 years old :\n",
      "296\n",
      "Number of people that suffered stroke with  37.0 years old :\n",
      "260\n",
      "Number of people that suffered stroke with  41.0 years old :\n",
      "324\n",
      "Number of people that suffered stroke with  70.0 years old :\n",
      "881\n",
      "Number of people that suffered stroke with  25.0 years old :\n",
      "226\n",
      "Number of people that suffered stroke with  43.0 years old :\n",
      "407\n",
      "Number of people that suffered stroke with  72.0 years old :\n",
      "709\n",
      "Number of people that suffered stroke with  20.0 years old :\n",
      "263\n",
      "Number of people that suffered stroke with  23.0 years old :\n",
      "253\n",
      "Number of people that suffered stroke with  22.0 years old :\n",
      "242\n",
      "Number of people that suffered stroke with  69.0 years old :\n",
      "677\n",
      "Number of people that suffered stroke with  44.0 years old :\n",
      "292\n",
      "Number of people that suffered stroke with  16.0 years old :\n",
      "187\n",
      "Number of people that suffered stroke with  64.0 years old :\n",
      "376\n",
      "Number of people that suffered stroke with  78.0 years old :\n",
      "2279\n",
      "Number of people that suffered stroke with  79.0 years old :\n",
      "2916\n",
      "Number of people that suffered stroke with  51.0 years old :\n",
      "643\n",
      "Number of people that suffered stroke with  81.0 years old :\n",
      "1738\n",
      "Number of people that suffered stroke with  10.0 years old :\n",
      "62\n",
      "Number of people that suffered stroke with  63.0 years old :\n",
      "942\n",
      "Number of people that suffered stroke with  80.0 years old :\n",
      "1858\n",
      "Number of people that suffered stroke with  56.0 years old :\n",
      "569\n",
      "Number of people that suffered stroke with  38.0 years old :\n",
      "456\n",
      "Number of people that suffered stroke with  48.0 years old :\n",
      "490\n",
      "Number of people that suffered stroke with  59.0 years old :\n",
      "647\n",
      "Number of people that suffered stroke with  77.0 years old :\n",
      "994\n",
      "Number of people that suffered stroke with  67.0 years old :\n",
      "801\n",
      "Number of people that suffered stroke with  66.0 years old :\n",
      "848\n",
      "Number of people that suffered stroke with  46.0 years old :\n",
      "471\n",
      "Number of people that suffered stroke with  0.56 years old :\n",
      "0\n",
      "Number of people that suffered stroke with  12.0 years old :\n",
      "119\n",
      "Number of people that suffered stroke with  53.0 years old :\n",
      "409\n",
      "Number of people that suffered stroke with  34.0 years old :\n",
      "289\n",
      "Number of people that suffered stroke with  60.0 years old :\n",
      "579\n",
      "Number of people that suffered stroke with  76.0 years old :\n",
      "892\n",
      "Number of people that suffered stroke with  57.0 years old :\n",
      "775\n",
      "Number of people that suffered stroke with  75.0 years old :\n",
      "809\n",
      "Number of people that suffered stroke with  26.0 years old :\n",
      "234\n",
      "Number of people that suffered stroke with  17.0 years old :\n",
      "227\n",
      "Number of people that suffered stroke with  73.0 years old :\n",
      "759\n",
      "Number of people that suffered stroke with  45.0 years old :\n",
      "513\n",
      "Number of people that suffered stroke with  50.0 years old :\n",
      "503\n",
      "Number of people that suffered stroke with  5.0 years old :\n",
      "0\n",
      "Number of people that suffered stroke with  21.0 years old :\n",
      "290\n",
      "Number of people that suffered stroke with  27.0 years old :\n",
      "231\n",
      "Number of people that suffered stroke with  74.0 years old :\n",
      "987\n",
      "Number of people that suffered stroke with  1.16 years old :\n",
      "0\n",
      "Number of people that suffered stroke with  39.0 years old :\n",
      "295\n",
      "Number of people that suffered stroke with  3.0 years old :\n",
      "0\n",
      "Number of people that suffered stroke with  54.0 years old :\n",
      "544\n",
      "Number of people that suffered stroke with  32.0 years old :\n",
      "223\n",
      "Number of people that suffered stroke with  65.0 years old :\n",
      "716\n",
      "Number of people that suffered stroke with  30.0 years old :\n",
      "223\n",
      "Number of people that suffered stroke with  8.0 years old :\n",
      "0\n",
      "Number of people that suffered stroke with  28.0 years old :\n",
      "218\n",
      "Number of people that suffered stroke with  11.0 years old :\n",
      "95\n",
      "Number of people that suffered stroke with  29.0 years old :\n",
      "306\n",
      "Number of people that suffered stroke with  47.0 years old :\n",
      "472\n",
      "Number of people that suffered stroke with  7.0 years old :\n",
      "0\n",
      "Number of people that suffered stroke with  2.0 years old :\n",
      "0\n",
      "Number of people that suffered stroke with  49.0 years old :\n",
      "315\n",
      "Number of people that suffered stroke with  19.0 years old :\n",
      "243\n",
      "Number of people that suffered stroke with  61.0 years old :\n",
      "646\n",
      "Number of people that suffered stroke with  35.0 years old :\n",
      "281\n",
      "Number of people that suffered stroke with  40.0 years old :\n",
      "266\n",
      "Number of people that suffered stroke with  31.0 years old :\n",
      "248\n",
      "Number of people that suffered stroke with  13.0 years old :\n",
      "131\n",
      "Number of people that suffered stroke with  55.0 years old :\n",
      "387\n",
      "Number of people that suffered stroke with  52.0 years old :\n",
      "580\n",
      "Number of people that suffered stroke with  24.0 years old :\n",
      "228\n",
      "Number of people that suffered stroke with  14.0 years old :\n",
      "166\n",
      "Number of people that suffered stroke with  6.0 years old :\n",
      "0\n",
      "Number of people that suffered stroke with  71.0 years old :\n",
      "667\n",
      "Number of people that suffered stroke with  42.0 years old :\n",
      "318\n",
      "Number of people that suffered stroke with  9.0 years old :\n",
      "0\n",
      "Number of people that suffered stroke with  68.0 years old :\n",
      "688\n",
      "Number of people that suffered stroke with  15.0 years old :\n",
      "174\n",
      "Number of people that suffered stroke with  0.8 years old :\n",
      "0\n",
      "Number of people that suffered stroke with  4.0 years old :\n",
      "0\n",
      "Number of people that suffered stroke with  1.48 years old :\n",
      "0\n",
      "Number of people that suffered stroke with  0.4 years old :\n",
      "0\n",
      "Number of people that suffered stroke with  1.08 years old :\n",
      "0\n",
      "Number of people that suffered stroke with  1.24 years old :\n",
      "0\n",
      "Number of people that suffered stroke with  1.56 years old :\n",
      "0\n",
      "Number of people that suffered stroke with  1.64 years old :\n",
      "0\n",
      "Number of people that suffered stroke with  1.4 years old :\n",
      "0\n",
      "Number of people that suffered stroke with  0.72 years old :\n",
      "0\n",
      "Number of people that suffered stroke with  1.72 years old :\n",
      "0\n",
      "Number of people that suffered stroke with  1.88 years old :\n",
      "0\n",
      "Number of people that suffered stroke with  0.24 years old :\n",
      "0\n",
      "Number of people that suffered stroke with  1.32 years old :\n",
      "1\n",
      "Number of people that suffered stroke with  0.88 years old :\n",
      "0\n",
      "Number of people that suffered stroke with  0.64 years old :\n",
      "0\n",
      "Number of people that suffered stroke with  1.8 years old :\n",
      "0\n",
      "Number of people that suffered stroke with  0.16 years old :\n",
      "0\n",
      "Number of people that suffered stroke with  0.48 years old :\n",
      "0\n",
      "Number of people that suffered stroke with  0.08 years old :\n",
      "0\n",
      "Number of people that suffered stroke with  0.32 years old :\n",
      "0\n",
      "Number of people that suffered stroke with  1.0 years old :\n",
      "0\n"
     ]
    }
   ],
   "source": [
    "soma_d = {} # Creates a dictionary to store the age and their corresponding  amount of stroke people\n",
    "\n",
    "for m in range(datei['age'].nunique()):\n",
    "    soma_d[lista_numerada[m][1]]=datei[(datei.age == lista_numerada[m][1]) & datei.stroke==1].count()[0]\n",
    "    print(\"Number of people that suffered stroke with \", lista_numerada[m][1], \"years old :\")\n",
    "    print(datei[(datei.age == lista_numerada[m][1]) & datei.stroke==1].count()[0])\n",
    "    "
   ]
  },
  {
   "cell_type": "code",
   "execution_count": 128,
   "id": "422327f7",
   "metadata": {},
   "outputs": [
    {
     "data": {
      "text/plain": [
       "{18.0: 218,\n",
       " 58.0: 645,\n",
       " 36.0: 293,\n",
       " 62.0: 550,\n",
       " 82.0: 1427,\n",
       " 33.0: 296,\n",
       " 37.0: 260,\n",
       " 41.0: 324,\n",
       " 70.0: 881,\n",
       " 25.0: 226,\n",
       " 43.0: 407,\n",
       " 72.0: 709,\n",
       " 20.0: 263,\n",
       " 23.0: 253,\n",
       " 22.0: 242,\n",
       " 69.0: 677,\n",
       " 44.0: 292,\n",
       " 16.0: 187,\n",
       " 64.0: 376,\n",
       " 78.0: 2279,\n",
       " 79.0: 2916,\n",
       " 51.0: 643,\n",
       " 81.0: 1738,\n",
       " 10.0: 62,\n",
       " 63.0: 942,\n",
       " 80.0: 1858,\n",
       " 56.0: 569,\n",
       " 38.0: 456,\n",
       " 48.0: 490,\n",
       " 59.0: 647,\n",
       " 77.0: 994,\n",
       " 67.0: 801,\n",
       " 66.0: 848,\n",
       " 46.0: 471,\n",
       " 0.56: 0,\n",
       " 12.0: 119,\n",
       " 53.0: 409,\n",
       " 34.0: 289,\n",
       " 60.0: 579,\n",
       " 76.0: 892,\n",
       " 57.0: 775,\n",
       " 75.0: 809,\n",
       " 26.0: 234,\n",
       " 17.0: 227,\n",
       " 73.0: 759,\n",
       " 45.0: 513,\n",
       " 50.0: 503,\n",
       " 5.0: 0,\n",
       " 21.0: 290,\n",
       " 27.0: 231,\n",
       " 74.0: 987,\n",
       " 1.16: 0,\n",
       " 39.0: 295,\n",
       " 3.0: 0,\n",
       " 54.0: 544,\n",
       " 32.0: 223,\n",
       " 65.0: 716,\n",
       " 30.0: 223,\n",
       " 8.0: 0,\n",
       " 28.0: 218,\n",
       " 11.0: 95,\n",
       " 29.0: 306,\n",
       " 47.0: 472,\n",
       " 7.0: 0,\n",
       " 2.0: 0,\n",
       " 49.0: 315,\n",
       " 19.0: 243,\n",
       " 61.0: 646,\n",
       " 35.0: 281,\n",
       " 40.0: 266,\n",
       " 31.0: 248,\n",
       " 13.0: 131,\n",
       " 55.0: 387,\n",
       " 52.0: 580,\n",
       " 24.0: 228,\n",
       " 14.0: 166,\n",
       " 6.0: 0,\n",
       " 71.0: 667,\n",
       " 42.0: 318,\n",
       " 9.0: 0,\n",
       " 68.0: 688,\n",
       " 15.0: 174,\n",
       " 0.8: 0,\n",
       " 4.0: 0,\n",
       " 1.48: 0,\n",
       " 0.4: 0,\n",
       " 1.08: 0,\n",
       " 1.24: 0,\n",
       " 1.56: 0,\n",
       " 1.64: 0,\n",
       " 1.4: 0,\n",
       " 0.72: 0,\n",
       " 1.72: 0,\n",
       " 1.88: 0,\n",
       " 0.24: 0,\n",
       " 1.32: 1,\n",
       " 0.88: 0,\n",
       " 0.64: 0,\n",
       " 1.8: 0,\n",
       " 0.16: 0,\n",
       " 0.48: 0,\n",
       " 0.08: 0,\n",
       " 0.32: 0,\n",
       " 1.0: 0}"
      ]
     },
     "execution_count": 128,
     "metadata": {},
     "output_type": "execute_result"
    }
   ],
   "source": [
    "# Listing the dictionary showing the age and their corresponding amount of the stroke people\n",
    "soma_d"
   ]
  },
  {
   "cell_type": "code",
   "execution_count": 129,
   "id": "39fe9efb",
   "metadata": {},
   "outputs": [
    {
     "data": {
      "text/plain": [
       "2916"
      ]
     },
     "execution_count": 129,
     "metadata": {},
     "output_type": "execute_result"
    }
   ],
   "source": [
    "# Getting the largest amount of people stroke \n",
    "max(soma_d.values())"
   ]
  },
  {
   "cell_type": "code",
   "execution_count": 130,
   "id": "97be5e79",
   "metadata": {},
   "outputs": [],
   "source": [
    "# Dictionary elements are not accessed by numerical index, like soma_d[1]"
   ]
  },
  {
   "cell_type": "code",
   "execution_count": 131,
   "id": "60e70600",
   "metadata": {},
   "outputs": [
    {
     "name": "stdout",
     "output_type": "stream",
     "text": [
      "The age corresponding to the largest number of stroke people is:  79.0\n"
     ]
    }
   ],
   "source": [
    "positions = list(soma_d.values()) # Converting values in a list\n",
    "chave = list(soma_d.keys()) # Converting keys in a list\n",
    "\n",
    "for z in range(datei['age'].nunique()):\n",
    "    if positions[z] == 2916: # 2916 is the largest number of stroke people\n",
    "        print(\"The age corresponding to the largest number of stroke people is: \", chave[z])"
   ]
  },
  {
   "cell_type": "code",
   "execution_count": 132,
   "id": "2f24e237",
   "metadata": {},
   "outputs": [
    {
     "name": "stdout",
     "output_type": "stream",
     "text": [
      "1427\n"
     ]
    }
   ],
   "source": [
    "# The get() method returns the value of the item with the specified key.\n",
    "corresponding_age = soma_d.get(82.0)\n",
    "print(corresponding_age)"
   ]
  },
  {
   "cell_type": "code",
   "execution_count": 133,
   "id": "299dd395",
   "metadata": {},
   "outputs": [
    {
     "data": {
      "text/plain": [
       "4680"
      ]
     },
     "execution_count": 133,
     "metadata": {},
     "output_type": "execute_result"
    }
   ],
   "source": [
    "# The Python __sizeof__() method returns the size of the object in bytes. \n",
    "soma_d.__sizeof__()"
   ]
  },
  {
   "cell_type": "code",
   "execution_count": 134,
   "id": "08a8b76c",
   "metadata": {},
   "outputs": [],
   "source": [
    "soma_d.clear() # The clear() method removes all the elements from a dictionary."
   ]
  },
  {
   "cell_type": "markdown",
   "id": "e31a9be1",
   "metadata": {},
   "source": [
    "### Linear regression - Stroke and age"
   ]
  },
  {
   "cell_type": "code",
   "execution_count": 135,
   "id": "01378e2b",
   "metadata": {},
   "outputs": [],
   "source": [
    "from sklearn.model_selection import train_test_split \n",
    "from sklearn.linear_model import LinearRegression  \n",
    "from sklearn import metrics "
   ]
  },
  {
   "cell_type": "code",
   "execution_count": 136,
   "id": "2aca5ec5",
   "metadata": {},
   "outputs": [],
   "source": [
    "# reshape. Gives a new shape to an array without changing its data.\n",
    "y = np.array(positions).reshape(-1,1) # Performs data modification for the algorithm input (converts it into a matrix)  \n",
    "X = np.array(chave).reshape(-1,1) # Performs data modification for the algorithm input (converts it into a matrix)  "
   ]
  },
  {
   "cell_type": "code",
   "execution_count": 137,
   "id": "b1a82429",
   "metadata": {},
   "outputs": [],
   "source": [
    "# Split arrays or matrices into random train and test subsets\n",
    "X_train, X_test, y_train, y_test = train_test_split(X, y, test_size=0.2, random_state=0) # train (80%) and test (20%)"
   ]
  },
  {
   "cell_type": "code",
   "execution_count": 138,
   "id": "59f53d44",
   "metadata": {},
   "outputs": [
    {
     "data": {
      "text/plain": [
       "LinearRegression()"
      ]
     },
     "execution_count": 138,
     "metadata": {},
     "output_type": "execute_result"
    }
   ],
   "source": [
    "regressor = LinearRegression() # Object for building the linear regression model\n",
    "regressor.fit(X_train, y_train) # Algorithm training"
   ]
  },
  {
   "cell_type": "code",
   "execution_count": 139,
   "id": "e067bdc1",
   "metadata": {},
   "outputs": [
    {
     "data": {
      "image/png": "[encoded data removed]",
      "text/plain": [
       "<Figure size 2000x1000 with 1 Axes>"
      ]
     },
     "metadata": {},
     "output_type": "display_data"
    }
   ],
   "source": [
    "plt.figure(figsize=(20,10))\n",
    "\n",
    "y_pred = regressor.predict(X_test)  # Predict the regression model\n",
    "\n",
    "plt.scatter(X_test, y_test, color='blue', s=150) # s=150 Changing Marker Sizes for All Points\n",
    "\n",
    "plt.plot(X_test, y_pred, color='red', linewidth=2)\n",
    "\n",
    "plt.ylabel('Number of people that suffered stroke', fontsize=30)\n",
    "plt.xlabel('Age of people that suffered stroke', fontsize=30)\n",
    "plt.title('Linear regression', fontsize=30)\n",
    "\n",
    "# rc (runtime configuration) \n",
    "plt.rcParams['xtick.labelsize'] = 30  # It changes the letter size\n",
    "plt.rcParams['ytick.labelsize'] = 30  # It changes the letter size\n",
    "\n",
    "plt.rcParams.update({'font.size': 40})\n",
    "\n",
    "# adjust the top leaving bottom unchanged\n",
    "plt.ylim(top=2000)\n",
    "\n",
    "plt.show()"
   ]
  },
  {
   "cell_type": "code",
   "execution_count": 140,
   "id": "1d144c46",
   "metadata": {},
   "outputs": [
    {
     "data": {
      "text/plain": [
       "0.8093924396269894"
      ]
     },
     "execution_count": 140,
     "metadata": {},
     "output_type": "execute_result"
    }
   ],
   "source": [
    "# Estimating the coefficient of determination R2 for the model\n",
    "from sklearn.metrics import r2_score  \n",
    "r2_score(y_test,y_pred)"
   ]
  },
  {
   "cell_type": "code",
   "execution_count": 141,
   "id": "822883d3",
   "metadata": {},
   "outputs": [
    {
     "name": "stdout",
     "output_type": "stream",
     "text": [
      "The equation of the line is Y = [14.70962255]*X -97.58113729998729\n"
     ]
    }
   ],
   "source": [
    "# Line coefficients\n",
    "print(\"The equation of the line is Y = {}*X {}\".format(regressor.coef_[0],regressor.intercept_[0]))"
   ]
  },
  {
   "cell_type": "code",
   "execution_count": 142,
   "id": "3dcb3bca",
   "metadata": {},
   "outputs": [
    {
     "data": {
      "text/plain": [
       "array([[1064.47904426]])"
      ]
     },
     "execution_count": 142,
     "metadata": {},
     "output_type": "execute_result"
    }
   ],
   "source": [
    "# Number of people with stroke estimated for age 79 years\n",
    "regressor.predict(np.array([79]).reshape(-1,1))"
   ]
  },
  {
   "cell_type": "code",
   "execution_count": 143,
   "id": "9d822285",
   "metadata": {},
   "outputs": [],
   "source": [
    "# Import a Python data visualization library based on matplotlib. \n",
    "import seaborn as sns"
   ]
  },
  {
   "cell_type": "code",
   "execution_count": 144,
   "id": "478658fe",
   "metadata": {},
   "outputs": [
    {
     "data": {
      "image/png": "[encoded data removed]",
      "text/plain": [
       "<Figure size 640x480 with 1 Axes>"
      ]
     },
     "metadata": {},
     "output_type": "display_data"
    }
   ],
   "source": [
    "# Note the four outliers that were removed in linear equation model. \n",
    "sns.set(font_scale=1) # Set the font size in seaborn\n",
    "sns.boxplot(y=positions); # Creates a box plot for number os people that suffered stroke"
   ]
  },
  {
   "cell_type": "code",
   "execution_count": 145,
   "id": "47009a9e",
   "metadata": {},
   "outputs": [
    {
     "data": {
      "image/png": "[encoded data removed]",
      "text/plain": [
       "<Figure size 640x480 with 1 Axes>"
      ]
     },
     "metadata": {},
     "output_type": "display_data"
    }
   ],
   "source": [
    "# All observed values in the number of people that suffered stroke\n",
    "plt.scatter(chave, positions);"
   ]
  },
  {
   "cell_type": "code",
   "execution_count": null,
   "id": "2d2e68f8",
   "metadata": {},
   "outputs": [],
   "source": []
  }
 ],
 "metadata": {
  "kernelspec": {
   "display_name": "Python 3 (ipykernel)",
   "language": "python",
   "name": "python3"
  },
  "language_info": {
   "codemirror_mode": {
    "name": "ipython",
    "version": 3
   },
   "file_extension": ".py",
   "mimetype": "text/x-python",
   "name": "python",
   "nbconvert_exporter": "python",
   "pygments_lexer": "ipython3",
   "version": "3.9.13"
  }
 },
 "nbformat": 4,
 "nbformat_minor": 5
}
